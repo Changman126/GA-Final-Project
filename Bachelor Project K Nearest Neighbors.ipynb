{
 "cells": [
  {
   "cell_type": "code",
   "execution_count": 1,
   "metadata": {
    "collapsed": true
   },
   "outputs": [
    {
     "name": "stderr",
     "output_type": "stream",
     "text": [
      "C:\\Users\\ochang\\AppData\\Local\\Continuum\\Anaconda\\lib\\site-packages\\sklearn\\cross_validation.py:44: DeprecationWarning: This module was deprecated in version 0.18 in favor of the model_selection module into which all the refactored classes and functions are moved. Also note that the interface of the new CV iterators are different from that of this module. This module will be removed in 0.20.\n",
      "  \"This module will be removed in 0.20.\", DeprecationWarning)\n",
      "C:\\Users\\ochang\\AppData\\Local\\Continuum\\Anaconda\\lib\\site-packages\\sklearn\\grid_search.py:43: DeprecationWarning: This module was deprecated in version 0.18 in favor of the model_selection module into which all the refactored classes and functions are moved. This module will be removed in 0.20.\n",
      "  DeprecationWarning)\n"
     ]
    }
   ],
   "source": [
    "import pandas as pd\n",
    "import numpy as np\n",
    "import matplotlib.pyplot as plt\n",
    "import seaborn as sns\n",
    "%matplotlib inline\n",
    "\n",
    "from sklearn.cross_validation import cross_val_score\n",
    "from sklearn.neighbors import KNeighborsClassifier\n",
    "from sklearn.grid_search import GridSearchCV"
   ]
  },
  {
   "cell_type": "code",
   "execution_count": 2,
   "metadata": {
    "collapsed": true
   },
   "outputs": [],
   "source": [
    "# Load Data\n",
    "df = pd.read_csv('BDataF.csv')\n",
    "df_test = pd.read_csv('BDataTest.csv')\n",
    "\n",
    "\n",
    "# Renaming Dummy Columns\n",
    "df = pd.concat([df, pd.get_dummies(df['DateRose'], prefix='DateRose')], axis=1)\n",
    "df = pd.concat([df, pd.get_dummies(df['ContestantRace'], prefix='Race')], axis=1)\n",
    "df_test = pd.concat([df_test, pd.get_dummies(df_test['DateRose'], prefix='DateRose')], axis=1)\n",
    "df_test = pd.concat([df_test, pd.get_dummies(df_test['ContestantRace'], prefix='Race')], axis=1)\n",
    "\n",
    "\n",
    "BachelorData = df\n",
    "BachelorTestData = df_test"
   ]
  },
  {
   "cell_type": "code",
   "execution_count": 3,
   "metadata": {
    "collapsed": false
   },
   "outputs": [],
   "source": [
    "#feature_cols = ['FirstImpressionRose', 'DateRose', 'OlderthanBachelor', 'YoungerthanBachelor', 'SameAgeasBachelor', 'DateRose_0', 'DateRose_1', 'DateRose_2']\n",
    "\n",
    "feature_cols = [\n",
    "                 'FirstImpressionRose',\n",
    "                 'DateRose',\n",
    "                 'AbsDistFromBachelorAge',\n",
    "                 'RelDistFromBachelorAge',\n",
    "                 'OlderthanBachelor',\n",
    "                 'YoungerthanBachelor',\n",
    "                 'SameAgeasBachelor',\n",
    "                 'SameHairasBachelorette',\n",
    "                 'DistFromBacheloretteAge',\n",
    "                 'AbsDistFromBacheloretteAge',\n",
    "                 'OlderThanBachelorette',\n",
    "                 'YoungerThanBachelorette',\n",
    "                 'SameAgeasBachelorette',\n",
    "                 'SameRaceasBachelorette',\n",
    "                 'DateRose_0',\n",
    "                 'DateRose_1',\n",
    "                 'DateRose_2',\n",
    "                 'Race_Asian',\n",
    "                 'Race_Black',\n",
    "                 'Race_White'\n",
    "                ]\n",
    "\n",
    "X = BachelorData[feature_cols]\n",
    "y = BachelorData['Winner']"
   ]
  },
  {
   "cell_type": "code",
   "execution_count": 4,
   "metadata": {
    "collapsed": false
   },
   "outputs": [
    {
     "name": "stdout",
     "output_type": "stream",
     "text": [
      "[0.95525194613928044, 0.96566861280594718, 0.96566861280594718, 0.96566861280594718]\n"
     ]
    }
   ],
   "source": [
    "#from sklearn.cross_validation import cross_val_score\n",
    "#from sklearn.neighbors import KNeighborsClassifier\n",
    "\n",
    "k_range = list(range(1, 5))\n",
    "k_scores = []\n",
    "\n",
    "for num in k_range:\n",
    "    kn = KNeighborsClassifier(n_neighbors=num)\n",
    "    scores = cross_val_score(kn, X, y, scoring='accuracy')\n",
    "    k_scores.append(scores.mean())\n",
    "    \n",
    "print(k_scores)"
   ]
  },
  {
   "cell_type": "code",
   "execution_count": 5,
   "metadata": {
    "collapsed": false
   },
   "outputs": [
    {
     "data": {
      "text/plain": [
       "<matplotlib.text.Text at 0x99c5ef0>"
      ]
     },
     "execution_count": 5,
     "metadata": {},
     "output_type": "execute_result"
    },
    {
     "data": {
      "image/png": "[encoded data removed]",
      "text/plain": [
       "<matplotlib.figure.Figure at 0x98ed208>"
      ]
     },
     "metadata": {},
     "output_type": "display_data"
    }
   ],
   "source": [
    "plt.plot(k_range, k_scores)\n",
    "plt.xlabel('K')\n",
    "plt.ylabel('Cross Validation Accuracy Score')"
   ]
  },
  {
   "cell_type": "code",
   "execution_count": 6,
   "metadata": {
    "collapsed": false
   },
   "outputs": [
    {
     "name": "stdout",
     "output_type": "stream",
     "text": [
      "0.965635738832\n",
      "{'n_neighbors': 2, 'leaf_size': 10}\n",
      "KNeighborsClassifier(algorithm='auto', leaf_size=10, metric='minkowski',\n",
      "           metric_params=None, n_jobs=1, n_neighbors=2, p=2,\n",
      "           weights='uniform')\n"
     ]
    }
   ],
   "source": [
    "#from sklearn.grid_search import GridSearchCV\n",
    "\n",
    "k_range = list(range(1, 5))\n",
    "leaf_size_range = list(range(10, 50))\n",
    "\n",
    "param_grid = dict(n_neighbors=k_range, leaf_size=leaf_size_range)\n",
    "GSC = GridSearchCV(kn, param_grid, scoring='accuracy')\n",
    "GSC.fit(X, y)\n",
    "GSC_mean_scores = [result.mean_validation_score for result in GSC.grid_scores_]\n",
    "\n",
    "print(GSC.best_score_)\n",
    "print(GSC.best_params_)\n",
    "print(GSC.best_estimator_)"
   ]
  },
  {
   "cell_type": "code",
   "execution_count": 7,
   "metadata": {
    "collapsed": false
   },
   "outputs": [
    {
     "name": "stdout",
     "output_type": "stream",
     "text": [
      "0.478571428571\n"
     ]
    }
   ],
   "source": [
    "kn = KNeighborsClassifier(n_neighbors = 2, leaf_size=10)\n",
    "scores = cross_val_score(kn, X, y, cv=10, scoring='roc_auc')\n",
    "print(scores.mean())"
   ]
  }
 ],
 "metadata": {
  "kernelspec": {
   "display_name": "Python 2",
   "language": "python",
   "name": "python2"
  },
  "language_info": {
   "codemirror_mode": {
    "name": "ipython",
    "version": 2
   },
   "file_extension": ".py",
   "mimetype": "text/x-python",
   "name": "python",
   "nbconvert_exporter": "python",
   "pygments_lexer": "ipython2",
   "version": "2.7.12"
  }
 },
 "nbformat": 4,
 "nbformat_minor": 0
}
