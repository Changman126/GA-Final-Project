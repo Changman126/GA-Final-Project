{
 "cells": [
  {
   "cell_type": "code",
   "execution_count": 1,
   "metadata": {
    "collapsed": true
   },
   "outputs": [],
   "source": [
    "import pandas as pd\n",
    "import numpy as np\n",
    "import matplotlib.pyplot as plt\n",
    "import seaborn as sns\n",
    "%matplotlib inline"
   ]
  },
  {
   "cell_type": "code",
   "execution_count": 2,
   "metadata": {
    "collapsed": true
   },
   "outputs": [],
   "source": [
    "# Load Data\n",
    "df = pd.read_csv('BDataF.csv')\n",
    "df_test = pd.read_csv('BDataTest.csv')\n",
    "\n",
    "\n",
    "# Renaming Dummy Columns\n",
    "df = pd.concat([df, pd.get_dummies(df['DateRose'], prefix='DateRose')], axis=1)\n",
    "df = pd.concat([df, pd.get_dummies(df['ContestantRace'], prefix='Race')], axis=1)\n",
    "df_test = pd.concat([df_test, pd.get_dummies(df_test['DateRose'], prefix='DateRose')], axis=1)\n",
    "df_test = pd.concat([df_test, pd.get_dummies(df_test['ContestantRace'], prefix='Race')], axis=1)\n",
    "\n",
    "\n",
    "BachelorData = df\n",
    "BachelorTestData = df_test"
   ]
  },
  {
   "cell_type": "code",
   "execution_count": null,
   "metadata": {
    "collapsed": true
   },
   "outputs": [],
   "source": [
    "list(BachelorData)"
   ]
  },
  {
   "cell_type": "code",
   "execution_count": 3,
   "metadata": {
    "collapsed": false
   },
   "outputs": [
    {
     "name": "stdout",
     "output_type": "stream",
     "text": [
      "0.965668612806\n"
     ]
    },
    {
     "data": {
      "text/plain": [
       "[('FirstImpressionRose', -0.47775954899453382),\n",
       " ('OlderthanBachelor', -0.5232995492842889),\n",
       " ('YoungerthanBachelor', -0.46510221079202058),\n",
       " ('SameAgeasBachelor', 0.14886590390480683),\n",
       " ('SameHairasBachelorette', -0.85958295505024462),\n",
       " ('OlderThanBachelorette', -0.27887947308108763),\n",
       " ('YoungerThanBachelorette', -0.29978786412326663),\n",
       " ('SameAgeasBachelorette', -0.0063200091988454147),\n",
       " ('SameRaceasBachelorette', 0.17849003510921033),\n",
       " ('DateRose_0', -2.1187160038984074),\n",
       " ('DateRose_1', 0.14101196093997642),\n",
       " ('DateRose_2', 0.74498839725639465),\n",
       " ('Race_Asian', 0.39035810751946126),\n",
       " ('Race_Black', -0.43653249395452631),\n",
       " ('Race_White', -0.815344989062738)]"
      ]
     },
     "execution_count": 3,
     "metadata": {},
     "output_type": "execute_result"
    }
   ],
   "source": [
    "from sklearn.linear_model import LogisticRegression\n",
    "from sklearn.model_selection import cross_val_score\n",
    "\n",
    "#feature_cols = ['FirstImpressionRose', 'DateRose', 'OlderthanBachelor', 'YoungerthanBachelor', 'SameAgeasBachelor', 'DateRose_0', 'DateRose_1', 'DateRose_2']\n",
    "feature_cols = [\n",
    "                 'FirstImpressionRose',\n",
    "                 'OlderthanBachelor',\n",
    "                 'YoungerthanBachelor',\n",
    "                 'SameAgeasBachelor',\n",
    "                 'SameHairasBachelorette',\n",
    "                 'OlderThanBachelorette',\n",
    "                 'YoungerThanBachelorette',\n",
    "                 'SameAgeasBachelorette',\n",
    "                 'SameRaceasBachelorette',\n",
    "                 'DateRose_0',\n",
    "                 'DateRose_1',\n",
    "                 'DateRose_2',\n",
    "                 'Race_Asian',\n",
    "                 'Race_Black',\n",
    "                 'Race_White'\n",
    "                ]\n",
    "\n",
    "\n",
    "\n",
    "X = BachelorData[feature_cols]\n",
    "y = BachelorData['Winner']\n",
    "\n",
    "lr = LogisticRegression()\n",
    "\n",
    "lr.fit(X, y)\n",
    "\n",
    "# Cross Validation\n",
    "scores = cross_val_score(lr, X, y, scoring='accuracy')\n",
    "print(scores.mean())\n",
    "\n",
    "# Print Coefficients for each feature\n",
    "coef = lr.coef_[0]\n",
    "zipdata = zip(feature_cols, coef)\n",
    "\n",
    "zipdata"
   ]
  },
  {
   "cell_type": "code",
   "execution_count": 5,
   "metadata": {
    "collapsed": false
   },
   "outputs": [
    {
     "data": {
      "text/html": [
       "<div>\n",
       "<table border=\"1\" class=\"dataframe\">\n",
       "  <thead>\n",
       "    <tr style=\"text-align: right;\">\n",
       "      <th></th>\n",
       "      <th>Name</th>\n",
       "      <th>Age</th>\n",
       "      <th>Season</th>\n",
       "      <th>FirstImpressionRose</th>\n",
       "      <th>DateRose</th>\n",
       "      <th>FirstName</th>\n",
       "      <th>LastName</th>\n",
       "      <th>State</th>\n",
       "      <th>AbsDistFromBachelorAge</th>\n",
       "      <th>RelDistFromBachelorAge</th>\n",
       "      <th>...</th>\n",
       "      <th>SameAgeasBachelorette</th>\n",
       "      <th>BacheloretteRace</th>\n",
       "      <th>SameRaceasBachelorette</th>\n",
       "      <th>DateRose_0</th>\n",
       "      <th>DateRose_1</th>\n",
       "      <th>DateRose_2</th>\n",
       "      <th>Race_Asian</th>\n",
       "      <th>Race_Black</th>\n",
       "      <th>Race_White</th>\n",
       "      <th>Predictions</th>\n",
       "    </tr>\n",
       "  </thead>\n",
       "  <tbody>\n",
       "    <tr>\n",
       "      <th>0</th>\n",
       "      <td>Brittany Farrar</td>\n",
       "      <td>26</td>\n",
       "      <td>21</td>\n",
       "      <td>0</td>\n",
       "      <td>0</td>\n",
       "      <td>Brittany</td>\n",
       "      <td>Farrar</td>\n",
       "      <td>California</td>\n",
       "      <td>10</td>\n",
       "      <td>10</td>\n",
       "      <td>...</td>\n",
       "      <td>0</td>\n",
       "      <td>White</td>\n",
       "      <td>1</td>\n",
       "      <td>1.0</td>\n",
       "      <td>0.0</td>\n",
       "      <td>0.0</td>\n",
       "      <td>0.0</td>\n",
       "      <td>0.0</td>\n",
       "      <td>1.0</td>\n",
       "      <td>0</td>\n",
       "    </tr>\n",
       "    <tr>\n",
       "      <th>1</th>\n",
       "      <td>Whitney Fransway</td>\n",
       "      <td>25</td>\n",
       "      <td>21</td>\n",
       "      <td>0</td>\n",
       "      <td>0</td>\n",
       "      <td>Whitney</td>\n",
       "      <td>Fransway</td>\n",
       "      <td>Minnesota</td>\n",
       "      <td>11</td>\n",
       "      <td>11</td>\n",
       "      <td>...</td>\n",
       "      <td>1</td>\n",
       "      <td>White</td>\n",
       "      <td>1</td>\n",
       "      <td>1.0</td>\n",
       "      <td>0.0</td>\n",
       "      <td>0.0</td>\n",
       "      <td>0.0</td>\n",
       "      <td>0.0</td>\n",
       "      <td>1.0</td>\n",
       "      <td>0</td>\n",
       "    </tr>\n",
       "    <tr>\n",
       "      <th>2</th>\n",
       "      <td>Raven Gates</td>\n",
       "      <td>25</td>\n",
       "      <td>21</td>\n",
       "      <td>0</td>\n",
       "      <td>1</td>\n",
       "      <td>Raven</td>\n",
       "      <td>Gates</td>\n",
       "      <td>Arkansas</td>\n",
       "      <td>11</td>\n",
       "      <td>11</td>\n",
       "      <td>...</td>\n",
       "      <td>1</td>\n",
       "      <td>White</td>\n",
       "      <td>1</td>\n",
       "      <td>0.0</td>\n",
       "      <td>1.0</td>\n",
       "      <td>0.0</td>\n",
       "      <td>0.0</td>\n",
       "      <td>0.0</td>\n",
       "      <td>1.0</td>\n",
       "      <td>0</td>\n",
       "    </tr>\n",
       "    <tr>\n",
       "      <th>3</th>\n",
       "      <td>Jasmine Goode</td>\n",
       "      <td>29</td>\n",
       "      <td>21</td>\n",
       "      <td>0</td>\n",
       "      <td>0</td>\n",
       "      <td>Jasmine</td>\n",
       "      <td>Goode</td>\n",
       "      <td>New Jersey</td>\n",
       "      <td>7</td>\n",
       "      <td>7</td>\n",
       "      <td>...</td>\n",
       "      <td>0</td>\n",
       "      <td>White</td>\n",
       "      <td>0</td>\n",
       "      <td>1.0</td>\n",
       "      <td>0.0</td>\n",
       "      <td>0.0</td>\n",
       "      <td>0.0</td>\n",
       "      <td>1.0</td>\n",
       "      <td>0.0</td>\n",
       "      <td>0</td>\n",
       "    </tr>\n",
       "    <tr>\n",
       "      <th>4</th>\n",
       "      <td>Vanessa Grimaldi</td>\n",
       "      <td>29</td>\n",
       "      <td>21</td>\n",
       "      <td>0</td>\n",
       "      <td>1</td>\n",
       "      <td>Vanessa</td>\n",
       "      <td>Grimaldi</td>\n",
       "      <td>Canada</td>\n",
       "      <td>7</td>\n",
       "      <td>7</td>\n",
       "      <td>...</td>\n",
       "      <td>0</td>\n",
       "      <td>White</td>\n",
       "      <td>1</td>\n",
       "      <td>0.0</td>\n",
       "      <td>1.0</td>\n",
       "      <td>0.0</td>\n",
       "      <td>0.0</td>\n",
       "      <td>0.0</td>\n",
       "      <td>1.0</td>\n",
       "      <td>0</td>\n",
       "    </tr>\n",
       "  </tbody>\n",
       "</table>\n",
       "<p>5 rows × 38 columns</p>\n",
       "</div>"
      ],
      "text/plain": [
       "               Name  Age  Season  FirstImpressionRose  DateRose FirstName  \\\n",
       "0   Brittany Farrar   26      21                    0         0  Brittany   \n",
       "1  Whitney Fransway   25      21                    0         0   Whitney   \n",
       "2       Raven Gates   25      21                    0         1     Raven   \n",
       "3     Jasmine Goode   29      21                    0         0   Jasmine   \n",
       "4  Vanessa Grimaldi   29      21                    0         1   Vanessa   \n",
       "\n",
       "   LastName       State  AbsDistFromBachelorAge  RelDistFromBachelorAge  \\\n",
       "0    Farrar  California                      10                      10   \n",
       "1  Fransway   Minnesota                      11                      11   \n",
       "2     Gates    Arkansas                      11                      11   \n",
       "3     Goode  New Jersey                       7                       7   \n",
       "4  Grimaldi      Canada                       7                       7   \n",
       "\n",
       "      ...      SameAgeasBachelorette  BacheloretteRace  \\\n",
       "0     ...                          0             White   \n",
       "1     ...                          1             White   \n",
       "2     ...                          1             White   \n",
       "3     ...                          0             White   \n",
       "4     ...                          0             White   \n",
       "\n",
       "   SameRaceasBachelorette  DateRose_0 DateRose_1 DateRose_2 Race_Asian  \\\n",
       "0                       1         1.0        0.0        0.0        0.0   \n",
       "1                       1         1.0        0.0        0.0        0.0   \n",
       "2                       1         0.0        1.0        0.0        0.0   \n",
       "3                       0         1.0        0.0        0.0        0.0   \n",
       "4                       1         0.0        1.0        0.0        0.0   \n",
       "\n",
       "  Race_Black Race_White Predictions  \n",
       "0        0.0        1.0           0  \n",
       "1        0.0        1.0           0  \n",
       "2        0.0        1.0           0  \n",
       "3        1.0        0.0           0  \n",
       "4        0.0        1.0           0  \n",
       "\n",
       "[5 rows x 38 columns]"
      ]
     },
     "execution_count": 5,
     "metadata": {},
     "output_type": "execute_result"
    }
   ],
   "source": [
    "# Predict response for Test Data set\n",
    "\n",
    "X_new = BachelorTestData[feature_cols]\n",
    "\n",
    "BachelorTestData['Predictions'] = lr.predict(X_new)\n",
    "\n",
    "BachelorTestData.head()"
   ]
  },
  {
   "cell_type": "code",
   "execution_count": null,
   "metadata": {
    "collapsed": true
   },
   "outputs": [],
   "source": [
    "BachelorData['Predictions'] = lr.predict(X)\n",
    "BachelorData.head()"
   ]
  },
  {
   "cell_type": "code",
   "execution_count": 6,
   "metadata": {
    "collapsed": false,
    "scrolled": true
   },
   "outputs": [
    {
     "name": "stdout",
     "output_type": "stream",
     "text": [
      "0.965668612806\n"
     ]
    }
   ],
   "source": [
    "from sklearn.model_selection import cross_val_score\n",
    "\n",
    "scores = cross_val_score(lr, X, y, scoring='accuracy')\n",
    "print(scores.mean())"
   ]
  },
  {
   "cell_type": "code",
   "execution_count": 7,
   "metadata": {
    "collapsed": false
   },
   "outputs": [
    {
     "name": "stdout",
     "output_type": "stream",
     "text": [
      "0.786322097664\n"
     ]
    }
   ],
   "source": [
    "scores = cross_val_score(lr, X, y, scoring='roc_auc')\n",
    "print(scores.mean())"
   ]
  }
 ],
 "metadata": {
  "kernelspec": {
   "display_name": "Python 2",
   "language": "python",
   "name": "python2"
  },
  "language_info": {
   "codemirror_mode": {
    "name": "ipython",
    "version": 2
   },
   "file_extension": ".py",
   "mimetype": "text/x-python",
   "name": "python",
   "nbconvert_exporter": "python",
   "pygments_lexer": "ipython2",
   "version": "2.7.12"
  }
 },
 "nbformat": 4,
 "nbformat_minor": 0
}
